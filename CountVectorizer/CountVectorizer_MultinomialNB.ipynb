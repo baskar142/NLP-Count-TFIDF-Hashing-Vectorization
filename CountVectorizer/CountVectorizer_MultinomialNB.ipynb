{
 "cells": [
  {
   "cell_type": "code",
   "execution_count": 1,
   "id": "c215a046",
   "metadata": {},
   "outputs": [],
   "source": [
    "import pandas as pd\n",
    "from sklearn.feature_extraction.text import CountVectorizer\n",
    "from sklearn.model_selection import train_test_split\n",
    "from sklearn.linear_model import PassiveAggressiveClassifier, LogisticRegression\n",
    "from sklearn.naive_bayes import MultinomialNB\n",
    "from sklearn.svm import SVC\n",
    "from sklearn.ensemble import RandomForestClassifier, GradientBoostingClassifier\n",
    "from sklearn.neighbors import KNeighborsClassifier\n",
    "from sklearn import metrics\n",
    "from sklearn.metrics import classification_report\n",
    "import matplotlib.pyplot as plt\n"
   ]
  },
  {
   "cell_type": "code",
   "execution_count": 2,
   "id": "442585ca",
   "metadata": {},
   "outputs": [],
   "source": [
    "# Load dataset\n",
    "df = pd.read_csv(r\"C:\\Users\\AB92922\\Downloads\\news.csv\", index_col=None)\n",
    "dataset = df.drop(\"Unnamed: 0\", axis=1)"
   ]
  },
  {
   "cell_type": "code",
   "execution_count": 3,
   "id": "410b2580",
   "metadata": {},
   "outputs": [],
   "source": [
    "# Split dataset into features and target\n",
    "y = dataset[\"label\"]\n",
    "X_train, X_test, y_train, y_test = train_test_split(dataset['text'], y, test_size=0.33, random_state=42)"
   ]
  },
  {
   "cell_type": "code",
   "execution_count": 4,
   "id": "b4b7281f",
   "metadata": {},
   "outputs": [],
   "source": [
    "# Text preprocessing with CountVectorizer\n",
    "count_vectorizer = CountVectorizer(stop_words='english')\n",
    "count_train = count_vectorizer.fit_transform(X_train)\n",
    "count_test = count_vectorizer.transform(X_test)"
   ]
  },
  {
   "cell_type": "code",
   "execution_count": 5,
   "id": "6403da1b",
   "metadata": {},
   "outputs": [
    {
     "name": "stdout",
     "output_type": "stream",
     "text": [
      "Classification Report for Multinomial Naive Bayes:\n",
      "              precision    recall  f1-score   support\n",
      "\n",
      "        FAKE       0.92      0.85      0.89      1071\n",
      "        REAL       0.86      0.93      0.89      1020\n",
      "\n",
      "    accuracy                           0.89      2091\n",
      "   macro avg       0.89      0.89      0.89      2091\n",
      "weighted avg       0.89      0.89      0.89      2091\n",
      "\n",
      "Naive Bayes Accuracy: 0.8886\n"
     ]
    }
   ],
   "source": [
    "# Multinomial Naive Bayes\n",
    "nb = MultinomialNB()\n",
    "\n",
    "# Train the model\n",
    "nb.fit(count_train, y_train)\n",
    "\n",
    "# Make predictions\n",
    "y_pred_nb = nb.predict(count_test)\n",
    "\n",
    "# Evaluate the model\n",
    "print(\"Classification Report for Multinomial Naive Bayes:\")\n",
    "print(classification_report(y_test, y_pred_nb))\n",
    "\n",
    "# Accuracy Score\n",
    "accuracy = metrics.accuracy_score(y_test, y_pred_nb)\n",
    "print(f\"Naive Bayes Accuracy: {accuracy:.4f}\")\n"
   ]
  },
  {
   "cell_type": "code",
   "execution_count": 10,
   "id": "91c1e1a8",
   "metadata": {},
   "outputs": [
    {
     "name": "stdout",
     "output_type": "stream",
     "text": [
      "NB Accuracy: 0.8886\n"
     ]
    }
   ],
   "source": [
    "# Accuracy Score\n",
    "accuracy = metrics.accuracy_score(y_test, y_pred_nb)\n",
    "print(f\"NB Accuracy: {accuracy:.4f}\")"
   ]
  },
  {
   "cell_type": "code",
   "execution_count": 11,
   "id": "67c7c9a0",
   "metadata": {},
   "outputs": [
    {
     "data": {
      "image/png": "[encoded data removed]",
      "text/plain": [
       "<Figure size 600x400 with 2 Axes>"
      ]
     },
     "metadata": {},
     "output_type": "display_data"
    }
   ],
   "source": [
    "# Confusion Matrix\n",
    "conf_matrix = metrics.confusion_matrix(y_test, y_pred_nb)\n",
    "plt.figure(figsize=(6, 4))\n",
    "plt.imshow(conf_matrix, interpolation='nearest', cmap=plt.cm.Blues)\n",
    "plt.title('Confusion Matrix - NB')\n",
    "plt.colorbar()\n",
    "plt.show()"
   ]
  },
  {
   "cell_type": "code",
   "execution_count": 16,
   "id": "8cf2e658",
   "metadata": {},
   "outputs": [
    {
     "name": "stdout",
     "output_type": "stream",
     "text": [
      "First 10 predictions: ['FAKE' 'FAKE' 'FAKE' 'REAL' 'FAKE' 'FAKE' 'REAL' 'FAKE' 'REAL' 'FAKE']\n",
      "True labels for the first 10 samples: ['FAKE' 'FAKE' 'FAKE' 'FAKE' 'FAKE' 'FAKE' 'REAL' 'FAKE' 'REAL' 'FAKE']\n"
     ]
    }
   ],
   "source": [
    "# Make predictions using the trained Logistic Regression model\n",
    "y_pred_nb = nb.predict(count_test)\n",
    "\n",
    "# Display first 10 predictions\n",
    "print(\"First 10 predictions:\", y_pred_nb[:10])\n",
    "\n",
    "# Display corresponding true labels for comparison\n",
    "print(\"True labels for the first 10 samples:\", y_test[:10].values)\n"
   ]
  },
  {
   "cell_type": "code",
   "execution_count": null,
   "id": "ede12304",
   "metadata": {},
   "outputs": [],
   "source": []
  }
 ],
 "metadata": {
  "kernelspec": {
   "display_name": "Python 3 (ipykernel)",
   "language": "python",
   "name": "python3"
  },
  "language_info": {
   "codemirror_mode": {
    "name": "ipython",
    "version": 3
   },
   "file_extension": ".py",
   "mimetype": "text/x-python",
   "name": "python",
   "nbconvert_exporter": "python",
   "pygments_lexer": "ipython3",
   "version": "3.9.13"
  }
 },
 "nbformat": 4,
 "nbformat_minor": 5
}
