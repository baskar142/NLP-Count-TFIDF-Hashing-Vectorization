{
 "cells": [
  {
   "cell_type": "code",
   "execution_count": 1,
   "id": "c215a046",
   "metadata": {},
   "outputs": [],
   "source": [
    "import pandas as pd\n",
    "from sklearn.feature_extraction.text import CountVectorizer\n",
    "from sklearn.model_selection import train_test_split\n",
    "from sklearn.linear_model import PassiveAggressiveClassifier, LogisticRegression\n",
    "from sklearn.naive_bayes import MultinomialNB\n",
    "from sklearn.svm import SVC\n",
    "from sklearn.ensemble import RandomForestClassifier, GradientBoostingClassifier\n",
    "from sklearn.neighbors import KNeighborsClassifier\n",
    "from sklearn import metrics\n",
    "from sklearn.metrics import classification_report\n",
    "import matplotlib.pyplot as plt\n"
   ]
  },
  {
   "cell_type": "code",
   "execution_count": 2,
   "id": "442585ca",
   "metadata": {},
   "outputs": [],
   "source": [
    "# Load dataset\n",
    "df = pd.read_csv(r\"C:\\Users\\AB92922\\Downloads\\news.csv\", index_col=None)\n",
    "dataset = df.drop(\"Unnamed: 0\", axis=1)"
   ]
  },
  {
   "cell_type": "code",
   "execution_count": 3,
   "id": "410b2580",
   "metadata": {},
   "outputs": [],
   "source": [
    "# Split dataset into features and target\n",
    "y = dataset[\"label\"]\n",
    "X_train, X_test, y_train, y_test = train_test_split(dataset['text'], y, test_size=0.33, random_state=42)"
   ]
  },
  {
   "cell_type": "code",
   "execution_count": 4,
   "id": "b4b7281f",
   "metadata": {},
   "outputs": [],
   "source": [
    "# Text preprocessing with CountVectorizer\n",
    "count_vectorizer = CountVectorizer(stop_words='english')\n",
    "count_train = count_vectorizer.fit_transform(X_train)\n",
    "count_test = count_vectorizer.transform(X_test)"
   ]
  },
  {
   "cell_type": "code",
   "execution_count": 6,
   "id": "6403da1b",
   "metadata": {},
   "outputs": [
    {
     "name": "stdout",
     "output_type": "stream",
     "text": [
      "Classification Report for LightGBM Classifier:\n",
      "              precision    recall  f1-score   support\n",
      "\n",
      "        FAKE       0.93      0.92      0.92      1071\n",
      "        REAL       0.92      0.92      0.92      1020\n",
      "\n",
      "    accuracy                           0.92      2091\n",
      "   macro avg       0.92      0.92      0.92      2091\n",
      "weighted avg       0.92      0.92      0.92      2091\n",
      "\n",
      "LightGBM Accuracy: 0.9220\n"
     ]
    }
   ],
   "source": [
    "from lightgbm import LGBMClassifier\n",
    "from sklearn.preprocessing import LabelEncoder\n",
    "from sklearn.metrics import classification_report, accuracy_score\n",
    "\n",
    "# Encode the target labels\n",
    "label_encoder = LabelEncoder()\n",
    "y_train_encoded = label_encoder.fit_transform(y_train)\n",
    "y_test_encoded = label_encoder.transform(y_test)\n",
    "\n",
    "# Convert count_train and count_test to float32\n",
    "count_train_float = count_train.astype('float32')\n",
    "count_test_float = count_test.astype('float32')\n",
    "\n",
    "# LightGBM Classifier\n",
    "lgbm = LGBMClassifier(random_state=42)\n",
    "\n",
    "# Train the model\n",
    "lgbm.fit(count_train_float, y_train_encoded)\n",
    "\n",
    "# Make predictions\n",
    "y_pred_lgbm = lgbm.predict(count_test_float)\n",
    "\n",
    "# Decode the predicted labels back to original form\n",
    "y_pred_lgbm_decoded = label_encoder.inverse_transform(y_pred_lgbm)\n",
    "\n",
    "# Evaluate the model\n",
    "print(\"Classification Report for LightGBM Classifier:\")\n",
    "print(classification_report(y_test, y_pred_lgbm_decoded))\n",
    "\n",
    "# Accuracy Score\n",
    "accuracy = accuracy_score(y_test, y_pred_lgbm_decoded)\n",
    "print(f\"LightGBM Accuracy: {accuracy:.4f}\")\n"
   ]
  },
  {
   "cell_type": "code",
   "execution_count": 7,
   "id": "67c7c9a0",
   "metadata": {},
   "outputs": [
    {
     "data": {
      "image/png": "[encoded data removed]",
      "text/plain": [
       "<Figure size 600x400 with 2 Axes>"
      ]
     },
     "metadata": {},
     "output_type": "display_data"
    }
   ],
   "source": [
    "# Confusion Matrix\n",
    "conf_matrix = metrics.confusion_matrix(y_test, y_pred_lgbm_decoded)\n",
    "plt.figure(figsize=(6, 4))\n",
    "plt.imshow(conf_matrix, interpolation='nearest', cmap=plt.cm.Blues)\n",
    "plt.title('Confusion Matrix - LGB')\n",
    "plt.colorbar()\n",
    "plt.show()"
   ]
  },
  {
   "cell_type": "code",
   "execution_count": 13,
   "id": "8cf2e658",
   "metadata": {},
   "outputs": [
    {
     "name": "stdout",
     "output_type": "stream",
     "text": [
      "First 10 predictions: [0 0 0 0 0 1 1 0 1 0]\n",
      "True labels for the first 10 samples: ['FAKE' 'FAKE' 'FAKE' 'FAKE' 'FAKE' 'FAKE' 'REAL' 'FAKE' 'REAL' 'FAKE']\n"
     ]
    }
   ],
   "source": [
    "# Convert count_test to float32\n",
    "count_test = count_test.astype('float32')\n",
    "\n",
    "# Make predictions using the trained LightGBM model\n",
    "y_pred_lgbm = lgbm.predict(count_test)\n",
    "\n",
    "# Display first 10 predictions\n",
    "print(\"First 10 predictions:\", y_pred_lgbm[:10])\n",
    "\n",
    "# Display corresponding true labels for comparison\n",
    "print(\"True labels for the first 10 samples:\", y_test[:10].values)\n"
   ]
  },
  {
   "cell_type": "code",
   "execution_count": null,
   "id": "ede12304",
   "metadata": {},
   "outputs": [],
   "source": []
  }
 ],
 "metadata": {
  "kernelspec": {
   "display_name": "Python 3 (ipykernel)",
   "language": "python",
   "name": "python3"
  },
  "language_info": {
   "codemirror_mode": {
    "name": "ipython",
    "version": 3
   },
   "file_extension": ".py",
   "mimetype": "text/x-python",
   "name": "python",
   "nbconvert_exporter": "python",
   "pygments_lexer": "ipython3",
   "version": "3.9.13"
  }
 },
 "nbformat": 4,
 "nbformat_minor": 5
}
