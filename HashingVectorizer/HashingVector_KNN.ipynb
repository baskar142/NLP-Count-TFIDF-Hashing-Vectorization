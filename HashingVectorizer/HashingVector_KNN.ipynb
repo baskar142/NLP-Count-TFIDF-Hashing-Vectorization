{
 "cells": [
  {
   "cell_type": "code",
   "execution_count": 1,
   "id": "c215a046",
   "metadata": {},
   "outputs": [],
   "source": [
    "import pandas as pd\n",
    "from sklearn.feature_extraction.text import HashingVectorizer\n",
    "from sklearn.model_selection import train_test_split\n",
    "from sklearn.naive_bayes import MultinomialNB\n",
    "from sklearn.preprocessing import LabelEncoder\n",
    "from sklearn.metrics import classification_report, accuracy_score\n",
    "import numpy as np\n",
    "from sklearn import metrics\n",
    "import matplotlib.pyplot as plt"
   ]
  },
  {
   "cell_type": "code",
   "execution_count": 2,
   "id": "442585ca",
   "metadata": {},
   "outputs": [],
   "source": [
    "# Load dataset\n",
    "df = pd.read_csv(r\"C:\\Users\\AB92922\\Downloads\\news.csv\", index_col=None)\n",
    "dataset = df.drop(\"Unnamed: 0\", axis=1)"
   ]
  },
  {
   "cell_type": "code",
   "execution_count": 3,
   "id": "410b2580",
   "metadata": {},
   "outputs": [],
   "source": [
    "# Split dataset into features and target\n",
    "y = dataset[\"label\"]\n",
    "X_train, X_test, y_train, y_test = train_test_split(dataset['text'], y, test_size=0.33, random_state=42)"
   ]
  },
  {
   "cell_type": "code",
   "execution_count": 4,
   "id": "7e48e6ac",
   "metadata": {},
   "outputs": [],
   "source": [
    "# Encode the target labels\n",
    "label_encoder = LabelEncoder()\n",
    "y_train_encoded = label_encoder.fit_transform(y_train)\n",
    "y_test_encoded = label_encoder.transform(y_test)"
   ]
  },
  {
   "cell_type": "code",
   "execution_count": 5,
   "id": "b4b7281f",
   "metadata": {},
   "outputs": [],
   "source": [
    "# Text preprocessing with HashingVectorizer\n",
    "hashing_vectorizer = HashingVectorizer(stop_words='english', n_features=2**20, dtype=np.float32)\n",
    "hashing_train = hashing_vectorizer.fit_transform(X_train)\n",
    "hashing_test = hashing_vectorizer.transform(X_test)"
   ]
  },
  {
   "cell_type": "code",
   "execution_count": 6,
   "id": "f3703807",
   "metadata": {},
   "outputs": [
    {
     "name": "stdout",
     "output_type": "stream",
     "text": [
      "\n",
      "K-Nearest Neighbors Classifier\n",
      "Accuracy: 0.6991869918699187\n",
      "Classification Report:\n",
      "               precision    recall  f1-score   support\n",
      "\n",
      "        FAKE       0.63      0.97      0.77      1071\n",
      "        REAL       0.93      0.41      0.57      1020\n",
      "\n",
      "    accuracy                           0.70      2091\n",
      "   macro avg       0.78      0.69      0.67      2091\n",
      "weighted avg       0.78      0.70      0.67      2091\n",
      "\n"
     ]
    }
   ],
   "source": [
    "from sklearn.neighbors import KNeighborsClassifier\n",
    "\n",
    "# K-Nearest Neighbors Classifier\n",
    "knn = KNeighborsClassifier(n_neighbors=5)\n",
    "knn.fit(hashing_train.astype('float32'), y_train_encoded)\n",
    "y_pred_knn = knn.predict(hashing_test.astype('float32'))\n",
    "\n",
    "# Evaluation\n",
    "print(\"\\nK-Nearest Neighbors Classifier\")\n",
    "print(\"Accuracy:\", accuracy_score(y_test_encoded, y_pred_knn))\n",
    "print(\"Classification Report:\\n\", classification_report(y_test_encoded, y_pred_knn, target_names=label_encoder.classes_))\n"
   ]
  },
  {
   "cell_type": "code",
   "execution_count": 7,
   "id": "ede12304",
   "metadata": {},
   "outputs": [
    {
     "data": {
      "image/png": "[encoded data removed]",
      "text/plain": [
       "<Figure size 600x400 with 2 Axes>"
      ]
     },
     "metadata": {},
     "output_type": "display_data"
    }
   ],
   "source": [
    "# Confusion Matrix\n",
    "conf_matrix = metrics.confusion_matrix(y_test_encoded, y_pred_knn)\n",
    "plt.figure(figsize=(6, 4))\n",
    "plt.imshow(conf_matrix, interpolation='nearest', cmap=plt.cm.Blues)\n",
    "plt.title('Confusion Matrix - KNN')\n",
    "plt.colorbar()\n",
    "plt.show()"
   ]
  },
  {
   "cell_type": "code",
   "execution_count": 8,
   "id": "3f516bc3",
   "metadata": {},
   "outputs": [
    {
     "name": "stdout",
     "output_type": "stream",
     "text": [
      "First 10 predictions: [0 0 0 0 0 0 1 0 1 0]\n",
      "True labels for the first 10 samples: ['FAKE' 'FAKE' 'FAKE' 'FAKE' 'FAKE' 'FAKE' 'REAL' 'FAKE' 'REAL' 'FAKE']\n"
     ]
    }
   ],
   "source": [
    "# Make predictions using the trained Logistic Regression model\n",
    "y_pred_svm = knn.predict(hashing_test)\n",
    "\n",
    "# Display first 10 predictions\n",
    "print(\"First 10 predictions:\", y_pred_knn[:10])\n",
    "\n",
    "# Display corresponding true labels for comparison\n",
    "print(\"True labels for the first 10 samples:\", y_test[:10].values)\n"
   ]
  },
  {
   "cell_type": "code",
   "execution_count": null,
   "id": "6c3b39cd",
   "metadata": {},
   "outputs": [],
   "source": []
  }
 ],
 "metadata": {
  "kernelspec": {
   "display_name": "Python 3 (ipykernel)",
   "language": "python",
   "name": "python3"
  },
  "language_info": {
   "codemirror_mode": {
    "name": "ipython",
    "version": 3
   },
   "file_extension": ".py",
   "mimetype": "text/x-python",
   "name": "python",
   "nbconvert_exporter": "python",
   "pygments_lexer": "ipython3",
   "version": "3.9.13"
  }
 },
 "nbformat": 4,
 "nbformat_minor": 5
}
