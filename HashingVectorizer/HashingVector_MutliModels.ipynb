{
 "cells": [
  {
   "cell_type": "code",
   "execution_count": 12,
   "id": "c215a046",
   "metadata": {},
   "outputs": [],
   "source": [
    "import pandas as pd\n",
    "from sklearn.feature_extraction.text import TfidfVectorizer  # Change to TfidfVectorizer\n",
    "from sklearn.model_selection import train_test_split\n",
    "from sklearn.linear_model import PassiveAggressiveClassifier, LogisticRegression\n",
    "from sklearn.naive_bayes import MultinomialNB\n",
    "from sklearn.svm import SVC\n",
    "from sklearn.ensemble import RandomForestClassifier, GradientBoostingClassifier\n",
    "from sklearn.neighbors import KNeighborsClassifier\n",
    "from sklearn import metrics\n",
    "from sklearn.metrics import classification_report\n",
    "import matplotlib.pyplot as plt\n",
    "\n",
    "from sklearn.tree import DecisionTreeClassifier"
   ]
  },
  {
   "cell_type": "code",
   "execution_count": 2,
   "id": "442585ca",
   "metadata": {},
   "outputs": [],
   "source": [
    "# Load dataset\n",
    "df = pd.read_csv(r\"C:\\Users\\AB92922\\Downloads\\news.csv\", index_col=None)\n",
    "dataset = df.drop(\"Unnamed: 0\", axis=1)"
   ]
  },
  {
   "cell_type": "code",
   "execution_count": 3,
   "id": "410b2580",
   "metadata": {},
   "outputs": [],
   "source": [
    "# Split dataset into features and target\n",
    "y = dataset[\"label\"]\n",
    "X_train, X_test, y_train, y_test = train_test_split(dataset['text'], y, test_size=0.33, random_state=42)"
   ]
  },
  {
   "cell_type": "code",
   "execution_count": 4,
   "id": "3dddde2e",
   "metadata": {},
   "outputs": [],
   "source": [
    "# Text preprocessing with HashingVectorizer\n",
    "hashing_vectorizer = HashingVectorizer(stop_words='english', n_features=2**20, dtype=np.float32)\n",
    "hashing_train = hashing_vectorizer.fit_transform(X_train)\n",
    "hashing_test = hashing_vectorizer.transform(X_test)"
   ]
  },
  {
   "cell_type": "code",
   "execution_count": 13,
   "id": "b4b7281f",
   "metadata": {},
   "outputs": [],
   "source": [
    "# List of classifiers to evaluate\n",
    "classifiers = {\n",
    "    \"Decision Tree\": DecisionTreeClassifier(random_state=42),\n",
    "    \"Passive Aggressive\": PassiveAggressiveClassifier(max_iter=1000, random_state=42),\n",
    "    \"Logistic Regression\": LogisticRegression(max_iter=1000, random_state=42),\n",
    "    \"SVM\": SVC(kernel='linear', random_state=42),\n",
    "    \"Random Forest\": RandomForestClassifier(n_estimators=100, random_state=42),\n",
    "    \"Gradient Boosting\": GradientBoostingClassifier(random_state=42),\n",
    "    \"K-Nearest Neighbors\": KNeighborsClassifier(n_neighbors=5)\n",
    "}\n",
    "\n",
    "# Dictionary to store the accuracy of each classifier\n",
    "accuracy_dict = {}"
   ]
  },
  {
   "cell_type": "code",
   "execution_count": 15,
   "id": "f3703807",
   "metadata": {},
   "outputs": [
    {
     "name": "stdout",
     "output_type": "stream",
     "text": [
      "\n",
      "Classifier: Decision Tree\n",
      "Accuracy: 0.81\n",
      "Classification Report:\n",
      "              precision    recall  f1-score   support\n",
      "\n",
      "        FAKE       0.83      0.79      0.81      1071\n",
      "        REAL       0.79      0.83      0.81      1020\n",
      "\n",
      "    accuracy                           0.81      2091\n",
      "   macro avg       0.81      0.81      0.81      2091\n",
      "weighted avg       0.81      0.81      0.81      2091\n",
      "\n",
      "Confusion Matrix:\n",
      "[[845 226]\n",
      " [177 843]]\n",
      "\n",
      "Classifier: Passive Aggressive\n",
      "Accuracy: 0.93\n",
      "Classification Report:\n",
      "              precision    recall  f1-score   support\n",
      "\n",
      "        FAKE       0.93      0.93      0.93      1071\n",
      "        REAL       0.92      0.93      0.92      1020\n",
      "\n",
      "    accuracy                           0.93      2091\n",
      "   macro avg       0.93      0.93      0.93      2091\n",
      "weighted avg       0.93      0.93      0.93      2091\n",
      "\n",
      "Confusion Matrix:\n",
      "[[991  80]\n",
      " [ 74 946]]\n",
      "\n",
      "Classifier: Logistic Regression\n",
      "Accuracy: 0.91\n",
      "Classification Report:\n",
      "              precision    recall  f1-score   support\n",
      "\n",
      "        FAKE       0.90      0.92      0.91      1071\n",
      "        REAL       0.92      0.89      0.91      1020\n",
      "\n",
      "    accuracy                           0.91      2091\n",
      "   macro avg       0.91      0.91      0.91      2091\n",
      "weighted avg       0.91      0.91      0.91      2091\n",
      "\n",
      "Confusion Matrix:\n",
      "[[990  81]\n",
      " [108 912]]\n",
      "\n",
      "Classifier: SVM\n",
      "Accuracy: 0.93\n",
      "Classification Report:\n",
      "              precision    recall  f1-score   support\n",
      "\n",
      "        FAKE       0.92      0.94      0.93      1071\n",
      "        REAL       0.94      0.91      0.93      1020\n",
      "\n",
      "    accuracy                           0.93      2091\n",
      "   macro avg       0.93      0.93      0.93      2091\n",
      "weighted avg       0.93      0.93      0.93      2091\n",
      "\n",
      "Confusion Matrix:\n",
      "[[1007   64]\n",
      " [  87  933]]\n",
      "\n",
      "Classifier: Random Forest\n",
      "Accuracy: 0.88\n",
      "Classification Report:\n",
      "              precision    recall  f1-score   support\n",
      "\n",
      "        FAKE       0.88      0.89      0.88      1071\n",
      "        REAL       0.88      0.87      0.88      1020\n",
      "\n",
      "    accuracy                           0.88      2091\n",
      "   macro avg       0.88      0.88      0.88      2091\n",
      "weighted avg       0.88      0.88      0.88      2091\n",
      "\n",
      "Confusion Matrix:\n",
      "[[950 121]\n",
      " [130 890]]\n",
      "\n",
      "Classifier: Gradient Boosting\n",
      "Accuracy: 0.88\n",
      "Classification Report:\n",
      "              precision    recall  f1-score   support\n",
      "\n",
      "        FAKE       0.88      0.89      0.89      1071\n",
      "        REAL       0.89      0.88      0.88      1020\n",
      "\n",
      "    accuracy                           0.88      2091\n",
      "   macro avg       0.88      0.88      0.88      2091\n",
      "weighted avg       0.88      0.88      0.88      2091\n",
      "\n",
      "Confusion Matrix:\n",
      "[[956 115]\n",
      " [126 894]]\n",
      "\n",
      "Classifier: K-Nearest Neighbors\n",
      "Accuracy: 0.70\n",
      "Classification Report:\n",
      "              precision    recall  f1-score   support\n",
      "\n",
      "        FAKE       0.63      0.97      0.77      1071\n",
      "        REAL       0.93      0.41      0.57      1020\n",
      "\n",
      "    accuracy                           0.70      2091\n",
      "   macro avg       0.78      0.69      0.67      2091\n",
      "weighted avg       0.78      0.70      0.67      2091\n",
      "\n",
      "Confusion Matrix:\n",
      "[[1040   31]\n",
      " [ 598  422]]\n"
     ]
    }
   ],
   "source": [
    "# Function to evaluate classifiers and make predictions\n",
    "def evaluate_classifier(clf_name, clf):\n",
    "    clf.fit(hashing_train, y_train)  # Fit the model\n",
    "    pred = clf.predict(hashing_test)  # Make predictions\n",
    "    accuracy = metrics.accuracy_score(y_test, pred)  # Compute accuracy\n",
    "    accuracy_dict[clf_name] = accuracy  # Store accuracy\n",
    "    \n",
    "    print(f\"\\nClassifier: {clf_name}\")\n",
    "    print(f\"Accuracy: {accuracy:.2f}\")\n",
    "    \n",
    "    # Print the classification report and confusion matrix\n",
    "    print(\"Classification Report:\")\n",
    "    print(classification_report(y_test, pred, target_names=['FAKE', 'REAL']))\n",
    "    \n",
    "    cm = metrics.confusion_matrix(y_test, pred, labels=['FAKE', 'REAL'])\n",
    "    print(f\"Confusion Matrix:\\n{cm}\")\n",
    "    \n",
    "# Loop through classifiers and evaluate each\n",
    "for clf_name, clf in classifiers.items():\n",
    "    evaluate_classifier(clf_name, clf)"
   ]
  },
  {
   "cell_type": "code",
   "execution_count": 18,
   "id": "3f516bc3",
   "metadata": {},
   "outputs": [
    {
     "data": {
      "image/png": "[encoded data removed]",
      "text/plain": [
       "<Figure size 1000x600 with 1 Axes>"
      ]
     },
     "metadata": {},
     "output_type": "display_data"
    }
   ],
   "source": [
    "# Plotting the accuracies using Matplotlib\n",
    "plt.figure(figsize=(10, 6))\n",
    "plt.bar(accuracy_dict.keys(), accuracy_dict.values(), color='skyblue')\n",
    "plt.xlabel('Classifier')\n",
    "plt.ylabel('Accuracy')\n",
    "plt.title('Comparison of Classifier Accuracy')\n",
    "plt.xticks(rotation=45)\n",
    "plt.show()"
   ]
  },
  {
   "cell_type": "code",
   "execution_count": 19,
   "id": "6c3b39cd",
   "metadata": {},
   "outputs": [
    {
     "name": "stdout",
     "output_type": "stream",
     "text": [
      "Predicted label for 'The stock market has reached an all-time high!': REAL\n",
      "Predicted label for 'Aliens have invaded Earth and are demanding to speak to the President.': REAL\n",
      "Predicted label for 'Scientists say that drinking coffee can help you live longer.': REAL\n",
      "Predicted label for 'New studies reveal that cats can actually speak human languages.': REAL\n"
     ]
    },
    {
     "name": "stderr",
     "output_type": "stream",
     "text": [
      "C:\\Users\\AB92922\\AppData\\Local\\Temp\\ipykernel_40620\\809297905.py:12: FutureWarning: elementwise comparison failed; returning scalar instead, but in the future will perform elementwise comparison\n",
      "  return 'FAKE' if prediction == 0 else 'REAL'\n"
     ]
    }
   ],
   "source": [
    "# Fit the Passive Aggressive Classifier model\n",
    "passive_aggressive_model = PassiveAggressiveClassifier(max_iter=1000, random_state=42)\n",
    "passive_aggressive_model.fit(hashing_train, y_train)  # Train the model with TfidfVectorizer\n",
    "\n",
    "# Function to predict new text using the Passive Aggressive Classifier model\n",
    "def predict_new_text_passive_aggressive(new_text):\n",
    "    # Transform the new text using the same TfidfVectorizer\n",
    "    new_text_transformed = hashing_vectorizer.transform([new_text])\n",
    "    # Predict the label\n",
    "    prediction = passive_aggressive_model.predict(new_text_transformed)\n",
    "    # Return the predicted label\n",
    "    return 'FAKE' if prediction == 0 else 'REAL'\n",
    "\n",
    "# Example predictions with new text\n",
    "new_samples = [\n",
    "    \"The stock market has reached an all-time high!\",\n",
    "    \"Aliens have invaded Earth and are demanding to speak to the President.\",\n",
    "    \"Scientists say that drinking coffee can help you live longer.\",\n",
    "    \"New studies reveal that cats can actually speak human languages.\"\n",
    "]\n",
    "\n",
    "# Make predictions for each new sample\n",
    "for sample in new_samples:\n",
    "    predicted_label = predict_new_text_passive_aggressive(sample)\n",
    "    print(f\"Predicted label for '{sample}': {predicted_label}\")\n"
   ]
  },
  {
   "cell_type": "code",
   "execution_count": 20,
   "id": "77f7f4b6",
   "metadata": {},
   "outputs": [
    {
     "name": "stdout",
     "output_type": "stream",
     "text": [
      "Predicted label for 'The next president is most likely to face an international crisis shortly after taking office — and both Donald Trump and Hillary Clinton \"have a credibility problem in foreign affairs,\" former Defense Secretary Robert Gates said Friday.\n",
      "\n",
      "\"Clinton was the senior-most advocate for using the U.S. military to bring ill-fated regime change in Libya and, further, failed to anticipate the chaos that would follow,\" Gates, who has served eight presidents over 50 years, wrote in an op-ed in The Wall Street Journal. \"The same failure she and other Democrats hung around the neck of the Bush 43 administration in post-Saddam Iraq.\"\n",
      "\n",
      "Regarding Trump, \"when it comes to credibility problems, though, Donald Trump is in a league of his own,\" Gates said.\n",
      "\n",
      "\"He has expressed support for building a wall between the U.S. and Mexico; for torturing suspected terrorists and killing their families; for [Vladimir] Putin’s dictatorial leadership and for Saddam Hussein’s nonexistent successes against terrorism.\"\n",
      "\n",
      "Gates, who most-recently worked under Presidents George W. Bush and Barack Obama, sized up the candidates on a variety of global national security issues — from China to North Korea, to Iran to Russia.\n",
      "\n",
      "\"Our new president had best be prepared for an early test of U.S. resolve in the Persian Gulf and Iran’s continuing regional subversion,\" Gates said.\n",
      "\n",
      "Though he has serious concerns with both candidates, Clinton fares slightly better than Trump, he said.\n",
      "\n",
      "\"Clinton has time before the election to address forthrightly her trustworthiness, to reassure people about her judgment, to demonstrate her willingness to stake out one or more positions on national security at odds with her party’s conventional wisdom, and to speak beyond generalities about how she would deal with China, Russia, North Korea, Iran, the Middle East — and international trade.\n",
      "\n",
      "\"Whether and how she addresses these issues will, I believe, affect how many people vote —including me,\" he said.\n",
      "\n",
      "However, Trump \"is beyond repair\" on national security issues, Gates said.\n",
      "\n",
      "\"He is stubbornly uninformed about the world and how to lead our country and government, and temperamentally unsuited to lead our men and women in uniform.\n",
      "\n",
      "\"He is unqualified and unfit to be commander-in-chief.\"': REAL\n",
      "Actual label: REAL\n"
     ]
    },
    {
     "name": "stderr",
     "output_type": "stream",
     "text": [
      "C:\\Users\\AB92922\\AppData\\Local\\Temp\\ipykernel_40620\\809297905.py:12: FutureWarning: elementwise comparison failed; returning scalar instead, but in the future will perform elementwise comparison\n",
      "  return 'FAKE' if prediction == 0 else 'REAL'\n"
     ]
    }
   ],
   "source": [
    "# Assuming previous code for training the model is already executed...\n",
    "\n",
    "# Example prediction for the first entry in the training dataset\n",
    "sample_text = X_train.iloc[0]  # Get the first text entry from the training data\n",
    "predicted_label = predict_new_text_passive_aggressive(sample_text)\n",
    "print(f\"Predicted label for '{sample_text}': {predicted_label}\")\n",
    "\n",
    "# Optionally, you can also print the actual label to compare\n",
    "actual_label = y_train.iloc[0]\n",
    "print(f\"Actual label: {actual_label}\")\n"
   ]
  },
  {
   "cell_type": "code",
   "execution_count": null,
   "id": "62e2fefe",
   "metadata": {},
   "outputs": [],
   "source": []
  }
 ],
 "metadata": {
  "kernelspec": {
   "display_name": "Python 3 (ipykernel)",
   "language": "python",
   "name": "python3"
  },
  "language_info": {
   "codemirror_mode": {
    "name": "ipython",
    "version": 3
   },
   "file_extension": ".py",
   "mimetype": "text/x-python",
   "name": "python",
   "nbconvert_exporter": "python",
   "pygments_lexer": "ipython3",
   "version": "3.9.13"
  }
 },
 "nbformat": 4,
 "nbformat_minor": 5
}
