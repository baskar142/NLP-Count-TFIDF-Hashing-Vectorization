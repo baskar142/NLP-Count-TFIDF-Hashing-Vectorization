{
 "cells": [
  {
   "cell_type": "code",
   "execution_count": 1,
   "id": "c215a046",
   "metadata": {},
   "outputs": [],
   "source": [
    "import pandas as pd\n",
    "from sklearn.feature_extraction.text import TfidfVectorizer  # Change to TfidfVectorizer\n",
    "from sklearn.model_selection import train_test_split\n",
    "from sklearn.linear_model import PassiveAggressiveClassifier, LogisticRegression\n",
    "from sklearn.naive_bayes import MultinomialNB\n",
    "from sklearn.svm import SVC\n",
    "from sklearn.ensemble import RandomForestClassifier, GradientBoostingClassifier\n",
    "from sklearn.neighbors import KNeighborsClassifier\n",
    "from sklearn import metrics\n",
    "from sklearn.metrics import classification_report\n",
    "import matplotlib.pyplot as plt\n"
   ]
  },
  {
   "cell_type": "code",
   "execution_count": 2,
   "id": "442585ca",
   "metadata": {},
   "outputs": [],
   "source": [
    "# Load dataset\n",
    "df = pd.read_csv(r\"C:\\Users\\AB92922\\Downloads\\news.csv\", index_col=None)\n",
    "dataset = df.drop(\"Unnamed: 0\", axis=1)"
   ]
  },
  {
   "cell_type": "code",
   "execution_count": 3,
   "id": "410b2580",
   "metadata": {},
   "outputs": [],
   "source": [
    "# Split dataset into features and target\n",
    "y = dataset[\"label\"]\n",
    "X_train, X_test, y_train, y_test = train_test_split(dataset['text'], y, test_size=0.33, random_state=42)"
   ]
  },
  {
   "cell_type": "code",
   "execution_count": 4,
   "id": "b4b7281f",
   "metadata": {},
   "outputs": [],
   "source": [
    "# Text preprocessing with TfidfVectorizer\n",
    "tfidf_vectorizer = TfidfVectorizer(stop_words='english')  # Use TfidfVectorizer\n",
    "tfidf_train = tfidf_vectorizer.fit_transform(X_train)\n",
    "tfidf_test = tfidf_vectorizer.transform(X_test)"
   ]
  },
  {
   "cell_type": "code",
   "execution_count": 5,
   "id": "6403da1b",
   "metadata": {},
   "outputs": [],
   "source": [
    "# List of classifiers to evaluate\n",
    "classifiers = {\n",
    "    \"Naive Bayes\": MultinomialNB(),\n",
    "    \"Passive Aggressive\": PassiveAggressiveClassifier(max_iter=1000, random_state=42),\n",
    "    \"Logistic Regression\": LogisticRegression(max_iter=1000, random_state=42),\n",
    "    \"SVM\": SVC(kernel='linear', random_state=42),\n",
    "    \"Random Forest\": RandomForestClassifier(n_estimators=100, random_state=42),\n",
    "    \"Gradient Boosting\": GradientBoostingClassifier(random_state=42),\n",
    "    \"K-Nearest Neighbors\": KNeighborsClassifier(n_neighbors=5)\n",
    "}\n",
    "\n",
    "# Dictionary to store the accuracy of each classifier\n",
    "accuracy_dict = {}"
   ]
  },
  {
   "cell_type": "code",
   "execution_count": 6,
   "id": "67c7c9a0",
   "metadata": {},
   "outputs": [
    {
     "name": "stdout",
     "output_type": "stream",
     "text": [
      "\n",
      "Classifier: Naive Bayes\n",
      "Accuracy: 0.82\n",
      "Classification Report:\n",
      "              precision    recall  f1-score   support\n",
      "\n",
      "        FAKE       0.97      0.66      0.78      1071\n",
      "        REAL       0.73      0.98      0.84      1020\n",
      "\n",
      "    accuracy                           0.82      2091\n",
      "   macro avg       0.85      0.82      0.81      2091\n",
      "weighted avg       0.86      0.82      0.81      2091\n",
      "\n",
      "Confusion Matrix:\n",
      "[[ 704  367]\n",
      " [  19 1001]]\n",
      "\n",
      "Classifier: Passive Aggressive\n",
      "Accuracy: 0.94\n",
      "Classification Report:\n",
      "              precision    recall  f1-score   support\n",
      "\n",
      "        FAKE       0.94      0.94      0.94      1071\n",
      "        REAL       0.94      0.93      0.93      1020\n",
      "\n",
      "    accuracy                           0.94      2091\n",
      "   macro avg       0.94      0.94      0.94      2091\n",
      "weighted avg       0.94      0.94      0.94      2091\n",
      "\n",
      "Confusion Matrix:\n",
      "[[1007   64]\n",
      " [  69  951]]\n",
      "\n",
      "Classifier: Logistic Regression\n",
      "Accuracy: 0.91\n",
      "Classification Report:\n",
      "              precision    recall  f1-score   support\n",
      "\n",
      "        FAKE       0.90      0.94      0.92      1071\n",
      "        REAL       0.93      0.89      0.91      1020\n",
      "\n",
      "    accuracy                           0.91      2091\n",
      "   macro avg       0.92      0.91      0.91      2091\n",
      "weighted avg       0.92      0.91      0.91      2091\n",
      "\n",
      "Confusion Matrix:\n",
      "[[1008   63]\n",
      " [ 116  904]]\n",
      "\n",
      "Classifier: SVM\n",
      "Accuracy: 0.93\n",
      "Classification Report:\n",
      "              precision    recall  f1-score   support\n",
      "\n",
      "        FAKE       0.93      0.95      0.94      1071\n",
      "        REAL       0.94      0.92      0.93      1020\n",
      "\n",
      "    accuracy                           0.93      2091\n",
      "   macro avg       0.93      0.93      0.93      2091\n",
      "weighted avg       0.93      0.93      0.93      2091\n",
      "\n",
      "Confusion Matrix:\n",
      "[[1015   56]\n",
      " [  81  939]]\n",
      "\n",
      "Classifier: Random Forest\n",
      "Accuracy: 0.90\n",
      "Classification Report:\n",
      "              precision    recall  f1-score   support\n",
      "\n",
      "        FAKE       0.91      0.89      0.90      1071\n",
      "        REAL       0.89      0.91      0.90      1020\n",
      "\n",
      "    accuracy                           0.90      2091\n",
      "   macro avg       0.90      0.90      0.90      2091\n",
      "weighted avg       0.90      0.90      0.90      2091\n",
      "\n",
      "Confusion Matrix:\n",
      "[[953 118]\n",
      " [ 95 925]]\n",
      "\n",
      "Classifier: Gradient Boosting\n",
      "Accuracy: 0.89\n",
      "Classification Report:\n",
      "              precision    recall  f1-score   support\n",
      "\n",
      "        FAKE       0.88      0.91      0.89      1071\n",
      "        REAL       0.90      0.87      0.89      1020\n",
      "\n",
      "    accuracy                           0.89      2091\n",
      "   macro avg       0.89      0.89      0.89      2091\n",
      "weighted avg       0.89      0.89      0.89      2091\n",
      "\n",
      "Confusion Matrix:\n",
      "[[973  98]\n",
      " [131 889]]\n",
      "\n",
      "Classifier: K-Nearest Neighbors\n",
      "Accuracy: 0.57\n",
      "Classification Report:\n",
      "              precision    recall  f1-score   support\n",
      "\n",
      "        FAKE       0.55      1.00      0.71      1071\n",
      "        REAL       1.00      0.12      0.22      1020\n",
      "\n",
      "    accuracy                           0.57      2091\n",
      "   macro avg       0.77      0.56      0.46      2091\n",
      "weighted avg       0.77      0.57      0.47      2091\n",
      "\n",
      "Confusion Matrix:\n",
      "[[1071    0]\n",
      " [ 893  127]]\n"
     ]
    }
   ],
   "source": [
    "# Function to evaluate classifiers and make predictions\n",
    "def evaluate_classifier(clf_name, clf):\n",
    "    clf.fit(tfidf_train, y_train)  # Fit the model\n",
    "    pred = clf.predict(tfidf_test)  # Make predictions\n",
    "    accuracy = metrics.accuracy_score(y_test, pred)  # Compute accuracy\n",
    "    accuracy_dict[clf_name] = accuracy  # Store accuracy\n",
    "    \n",
    "    print(f\"\\nClassifier: {clf_name}\")\n",
    "    print(f\"Accuracy: {accuracy:.2f}\")\n",
    "    \n",
    "    # Print the classification report and confusion matrix\n",
    "    print(\"Classification Report:\")\n",
    "    print(classification_report(y_test, pred, target_names=['FAKE', 'REAL']))\n",
    "    \n",
    "    cm = metrics.confusion_matrix(y_test, pred, labels=['FAKE', 'REAL'])\n",
    "    print(f\"Confusion Matrix:\\n{cm}\")\n",
    "    \n",
    "# Loop through classifiers and evaluate each\n",
    "for clf_name, clf in classifiers.items():\n",
    "    evaluate_classifier(clf_name, clf)"
   ]
  },
  {
   "cell_type": "code",
   "execution_count": 7,
   "id": "8cf2e658",
   "metadata": {},
   "outputs": [
    {
     "data": {
      "image/png": "[encoded data removed]",
      "text/plain": [
       "<Figure size 1000x600 with 1 Axes>"
      ]
     },
     "metadata": {},
     "output_type": "display_data"
    }
   ],
   "source": [
    "# Plotting the accuracies using Matplotlib\n",
    "plt.figure(figsize=(10, 6))\n",
    "plt.bar(accuracy_dict.keys(), accuracy_dict.values(), color='skyblue')\n",
    "plt.xlabel('Classifier')\n",
    "plt.ylabel('Accuracy')\n",
    "plt.title('Comparison of Classifier Accuracy')\n",
    "plt.xticks(rotation=45)\n",
    "plt.show()"
   ]
  },
  {
   "cell_type": "code",
   "execution_count": 8,
   "id": "ede12304",
   "metadata": {},
   "outputs": [
    {
     "name": "stdout",
     "output_type": "stream",
     "text": [
      "Predicted label for 'The stock market has reached an all-time high!': REAL\n",
      "Predicted label for 'Aliens have invaded Earth and are demanding to speak to the President.': REAL\n",
      "Predicted label for 'Scientists say that drinking coffee can help you live longer.': REAL\n",
      "Predicted label for 'New studies reveal that cats can actually speak human languages.': REAL\n"
     ]
    },
    {
     "name": "stderr",
     "output_type": "stream",
     "text": [
      "C:\\Users\\AB92922\\AppData\\Local\\Temp\\ipykernel_17780\\474184198.py:12: FutureWarning: elementwise comparison failed; returning scalar instead, but in the future will perform elementwise comparison\n",
      "  return 'FAKE' if prediction == 0 else 'REAL'\n"
     ]
    }
   ],
   "source": [
    "# Fit the Passive Aggressive Classifier model\n",
    "passive_aggressive_model = PassiveAggressiveClassifier(max_iter=1000, random_state=42)\n",
    "passive_aggressive_model.fit(tfidf_train, y_train)  # Train the model with TfidfVectorizer\n",
    "\n",
    "# Function to predict new text using the Passive Aggressive Classifier model\n",
    "def predict_new_text_passive_aggressive(new_text):\n",
    "    # Transform the new text using the same TfidfVectorizer\n",
    "    new_text_transformed = tfidf_vectorizer.transform([new_text])\n",
    "    # Predict the label\n",
    "    prediction = passive_aggressive_model.predict(new_text_transformed)\n",
    "    # Return the predicted label\n",
    "    return 'FAKE' if prediction == 0 else 'REAL'\n",
    "\n",
    "# Example predictions with new text\n",
    "new_samples = [\n",
    "    \"The stock market has reached an all-time high!\",\n",
    "    \"Aliens have invaded Earth and are demanding to speak to the President.\",\n",
    "    \"Scientists say that drinking coffee can help you live longer.\",\n",
    "    \"New studies reveal that cats can actually speak human languages.\"\n",
    "]\n",
    "\n",
    "# Make predictions for each new sample\n",
    "for sample in new_samples:\n",
    "    predicted_label = predict_new_text_passive_aggressive(sample)\n",
    "    print(f\"Predicted label for '{sample}': {predicted_label}\")\n"
   ]
  },
  {
   "cell_type": "code",
   "execution_count": 9,
   "id": "f16c36a2",
   "metadata": {},
   "outputs": [
    {
     "name": "stdout",
     "output_type": "stream",
     "text": [
      "Predicted label for 'The next president is most likely to face an international crisis shortly after taking office — and both Donald Trump and Hillary Clinton \"have a credibility problem in foreign affairs,\" former Defense Secretary Robert Gates said Friday.\n",
      "\n",
      "\"Clinton was the senior-most advocate for using the U.S. military to bring ill-fated regime change in Libya and, further, failed to anticipate the chaos that would follow,\" Gates, who has served eight presidents over 50 years, wrote in an op-ed in The Wall Street Journal. \"The same failure she and other Democrats hung around the neck of the Bush 43 administration in post-Saddam Iraq.\"\n",
      "\n",
      "Regarding Trump, \"when it comes to credibility problems, though, Donald Trump is in a league of his own,\" Gates said.\n",
      "\n",
      "\"He has expressed support for building a wall between the U.S. and Mexico; for torturing suspected terrorists and killing their families; for [Vladimir] Putin’s dictatorial leadership and for Saddam Hussein’s nonexistent successes against terrorism.\"\n",
      "\n",
      "Gates, who most-recently worked under Presidents George W. Bush and Barack Obama, sized up the candidates on a variety of global national security issues — from China to North Korea, to Iran to Russia.\n",
      "\n",
      "\"Our new president had best be prepared for an early test of U.S. resolve in the Persian Gulf and Iran’s continuing regional subversion,\" Gates said.\n",
      "\n",
      "Though he has serious concerns with both candidates, Clinton fares slightly better than Trump, he said.\n",
      "\n",
      "\"Clinton has time before the election to address forthrightly her trustworthiness, to reassure people about her judgment, to demonstrate her willingness to stake out one or more positions on national security at odds with her party’s conventional wisdom, and to speak beyond generalities about how she would deal with China, Russia, North Korea, Iran, the Middle East — and international trade.\n",
      "\n",
      "\"Whether and how she addresses these issues will, I believe, affect how many people vote —including me,\" he said.\n",
      "\n",
      "However, Trump \"is beyond repair\" on national security issues, Gates said.\n",
      "\n",
      "\"He is stubbornly uninformed about the world and how to lead our country and government, and temperamentally unsuited to lead our men and women in uniform.\n",
      "\n",
      "\"He is unqualified and unfit to be commander-in-chief.\"': REAL\n",
      "Actual label: REAL\n"
     ]
    },
    {
     "name": "stderr",
     "output_type": "stream",
     "text": [
      "C:\\Users\\AB92922\\AppData\\Local\\Temp\\ipykernel_17780\\474184198.py:12: FutureWarning: elementwise comparison failed; returning scalar instead, but in the future will perform elementwise comparison\n",
      "  return 'FAKE' if prediction == 0 else 'REAL'\n"
     ]
    }
   ],
   "source": [
    "# Assuming previous code for training the model is already executed...\n",
    "\n",
    "# Example prediction for the first entry in the training dataset\n",
    "sample_text = X_train.iloc[0]  # Get the first text entry from the training data\n",
    "predicted_label = predict_new_text_passive_aggressive(sample_text)\n",
    "print(f\"Predicted label for '{sample_text}': {predicted_label}\")\n",
    "\n",
    "# Optionally, you can also print the actual label to compare\n",
    "actual_label = y_train.iloc[0]\n",
    "print(f\"Actual label: {actual_label}\")\n"
   ]
  },
  {
   "cell_type": "code",
   "execution_count": 10,
   "id": "ad732957",
   "metadata": {},
   "outputs": [
    {
     "name": "stdout",
     "output_type": "stream",
     "text": [
      "Predicted label for 'Following news of FBI Director James Comey’s decision to reopen the investigation into Hillary Clinton’s use of a private email server during her tenure at the State Department, federal law enforcement officials have come forward with new details on recently discovered evidence in the case.\n",
      "More on this: DEVELOPING: FBI Reopens Investigation into Clinton Emails After New ‘Pertinent’ Evidence Discovered \n",
      "While Director Comey declined to provide specific details on what the newly discovered Clinton emails contained, federal law enforcements officials speaking under anonymity have explained that the emails were found on the personal devices of Clinton aide Huma Abedin and disgraced former Congressman Anthony Weiner.\n",
      "The discovery came as part of investigation into yet another Weiner ‘sexting’ scandal, this time after he was alleged to have been engaging in sexually explicit conversations with an underage female.\n",
      "More on the latest Weiner scandal: ‘Carlos Danger’ Strikes Again: New Reports Allege Anthony Weiner Knowingly Engaged in Sexually Explicit Conversations with 15 Year Old Female Online \n",
      "As reported by the New York Times, authorities discovered ‘pertinent’ emails related to the Clinton investigation on personal electronic devices belonging to Abedin and Weiner that had been seized by investigators as part of the investigation in Weiner’s alleged inappropriate conversations with a child.\n",
      "Via NYT \n",
      "Federal law enforcement officials said Friday that the new emails uncovered in the closed investigation into Hillary Clinton ’s use of a private email server were discovered after the F.B.I. seized electronic devices belonging to Huma Abedin, an aide to Mrs. Clinton, and her husband, Anthony Weiner.\n",
      "The F.B.I. told Congress that it had uncovered new emails related to the closed investigation into whether Mrs. Clinton or her aides had mishandled classified information, potentially reigniting an issue that has weighed on the presidential campaign and offering a lifeline to Donald J. Trump less than two weeks before the election.\n",
      "More via FoxNews \n",
      "Watch the latest video at video.foxnews.com \n",
      "We will continue to update as new details surface.\n",
      "': REAL\n",
      "Actual label: FAKE\n"
     ]
    },
    {
     "name": "stderr",
     "output_type": "stream",
     "text": [
      "C:\\Users\\AB92922\\AppData\\Local\\Temp\\ipykernel_17780\\474184198.py:12: FutureWarning: elementwise comparison failed; returning scalar instead, but in the future will perform elementwise comparison\n",
      "  return 'FAKE' if prediction == 0 else 'REAL'\n"
     ]
    }
   ],
   "source": [
    "# Assuming previous code for training the model is already executed...\n",
    "\n",
    "# Example prediction for the first entry in the training dataset\n",
    "sample_text = X_train.iloc[1]  # Get the first text entry from the training data\n",
    "predicted_label = predict_new_text_passive_aggressive(sample_text)\n",
    "print(f\"Predicted label for '{sample_text}': {predicted_label}\")\n",
    "\n",
    "# Optionally, you can also print the actual label to compare\n",
    "actual_label = y_train.iloc[1]\n",
    "print(f\"Actual label: {actual_label}\")\n"
   ]
  },
  {
   "cell_type": "code",
   "execution_count": null,
   "id": "87d37248",
   "metadata": {},
   "outputs": [],
   "source": []
  }
 ],
 "metadata": {
  "kernelspec": {
   "display_name": "Python 3 (ipykernel)",
   "language": "python",
   "name": "python3"
  },
  "language_info": {
   "codemirror_mode": {
    "name": "ipython",
    "version": 3
   },
   "file_extension": ".py",
   "mimetype": "text/x-python",
   "name": "python",
   "nbconvert_exporter": "python",
   "pygments_lexer": "ipython3",
   "version": "3.9.13"
  }
 },
 "nbformat": 4,
 "nbformat_minor": 5
}
